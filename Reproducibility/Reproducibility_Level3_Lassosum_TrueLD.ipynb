{
 "cells": [
  {
   "cell_type": "markdown",
   "id": "2ae8a86b",
   "metadata": {},
   "source": [
    "# Load all libraries:"
   ]
  },
  {
   "cell_type": "code",
   "execution_count": 1,
   "id": "b74f5fab",
   "metadata": {},
   "outputs": [],
   "source": [
    "import csv\n",
    "import torch\n",
    "import random\n",
    "import warnings\n",
    "import subprocess\n",
    "import scipy as sp\n",
    "import numpy as np\n",
    "import pandas as pd\n",
    "import concurrent.futures\n",
    "from functools import partial\n",
    "from datetime import datetime\n",
    "import matplotlib.pyplot as plt\n",
    "warnings.filterwarnings(\"ignore\")\n",
    "from statsmodels.formula.api import ols\n",
    "from pandas_plink import read_plink1_bin, read_plink"
   ]
  },
  {
   "cell_type": "markdown",
   "id": "1a3929e1",
   "metadata": {},
   "source": [
    "# Helper Functions:"
   ]
  },
  {
   "cell_type": "code",
   "execution_count": 2,
   "id": "9c4c7a90",
   "metadata": {},
   "outputs": [],
   "source": [
    "def doMPP(X_tar, Y_train_true, tar_snps, L1_penalty):\n",
    "    \n",
    "    #Initialize Beta_hats\n",
    "    Beta_hat_init = np.random.normal(0, 0.00000000001, len(tar_snps))\n",
    "    \n",
    "    X_tensor = torch.from_numpy(X_tar)\n",
    "    XtX = torch.matmul(X_tensor.T, X_tensor)\n",
    "    XtX_np = XtX.numpy()\n",
    "\n",
    "    y_tensor = torch.from_numpy(Y_train_true)\n",
    "    Xty = torch.matmul(X_tensor.T, y_tensor)\n",
    "    Xty_np = Xty.numpy()\n",
    "\n",
    "    mu = 0.1\n",
    "    L1_penalty = L1_penalty\n",
    "\n",
    "    def func(Bs, L1_penalty):\n",
    "        t1 = torch.matmul(X_tensor, torch.from_numpy(Bs)).numpy()\n",
    "        temp = Bs\n",
    "        nesterov = mu*np.log((0.5*np.exp(-temp/mu))+(0.5*np.exp(temp/mu)))\n",
    "        term2 = L1_penalty*sum(nesterov)\n",
    "        val = sum((Y_train_true - t1)**2) + term2\n",
    "        return val\n",
    "\n",
    "    def jacfunc(Bs, L1_penalty):\n",
    "        term1 = 2*torch.matmul(XtX, torch.from_numpy(Bs)).numpy()\n",
    "        term2 = 2*Xty_np\n",
    "        temp = Bs\n",
    "        nesterov = np.divide((-np.exp(-temp/mu) + np.exp(temp/mu)),(np.exp(-temp/mu) + np.exp(temp/mu)))\n",
    "        term3 = L1_penalty*nesterov\n",
    "        return term1-term2+term3\n",
    "\n",
    "    ans = sp.optimize.minimize(func, jac=jacfunc, x0=Beta_hat_init, args=(L1_penalty),\\\n",
    "                               method='L-BFGS-B', options={'maxfun':10})\n",
    "    \n",
    "    final_snps = tar_snps\n",
    "    final_betas = ans.x\n",
    "    final_chr = tar_chroms\n",
    "    final_pos = tar_pos\n",
    "    final_a1 = tar_a1\n",
    "    final_results_df = pd.DataFrame({'CHR':final_chr, 'SNP':final_snps, 'POS':final_pos,\\\n",
    "                                     'A1':final_a1, 'BETA':final_betas,})\n",
    "    \n",
    "    return final_results_df"
   ]
  },
  {
   "cell_type": "markdown",
   "id": "b1bbcb69",
   "metadata": {},
   "source": [
    "# Change here to reproduce results on other simulation configurations:"
   ]
  },
  {
   "cell_type": "code",
   "execution_count": 3,
   "id": "a2ec184e",
   "metadata": {},
   "outputs": [],
   "source": [
    "inPATH = './Simul_Analysis_1/'\n",
    "\n",
    "pop = 'sas'\n",
    "\n",
    "exp_list = ['exp1.4.1','exp1.4.2','exp1.4.3']"
   ]
  },
  {
   "cell_type": "code",
   "execution_count": 4,
   "id": "77ced004",
   "metadata": {},
   "outputs": [
    {
     "name": "stdout",
     "output_type": "stream",
     "text": [
      "Start time: 2025-08-09 09:51:49.545563\n",
      "End time: 2025-08-09 09:51:50.200758\n",
      "exp1.4.1 ... Done!\n",
      "Start time: 2025-08-09 09:51:50.774235\n",
      "End time: 2025-08-09 09:51:51.456082\n",
      "exp1.4.2 ... Done!\n",
      "Start time: 2025-08-09 09:51:52.022833\n",
      "End time: 2025-08-09 09:51:52.789961\n",
      "exp1.4.3 ... Done!\n"
     ]
    }
   ],
   "source": [
    "for exp_num in exp_list:\n",
    "    \n",
    "    #TAR Summary Statistics\n",
    "    ss_df_tar = pd.read_csv(inPATH+'GWAS_SummaryStats/'+str(pop)+'_'+str(exp_num)+'.sumstat',\\\n",
    "                            delimiter=' ', header=None,\\\n",
    "                            names = ['CHR','SNP','GENETIC.DIST','BP','A1','A2','BETA','SE','T','P','N'])\n",
    "\n",
    "    #True X\n",
    "    if pop == 'sas':\n",
    "        G_sas  = read_plink1_bin(inPATH+'Genotypes/'+str(pop)+'_train_'+str(exp_num)+'_CHR22.bed',\\\n",
    "                                 inPATH+'Genotypes/'+str(pop)+'_train_'+str(exp_num)+'_CHR22.bim',\\\n",
    "                                 inPATH+'Genotypes/'+str(pop)+'_train_'+str(exp_num)+'_CHR22.fam',\\\n",
    "                                 verbose = False)\n",
    "    else:\n",
    "        G_sas  = read_plink1_bin(inPATH+'Genotypes/'+str(pop)+'_'+str(exp_num)+'_CHR22.bed',\\\n",
    "                                 inPATH+'Genotypes/'+str(pop)+'_'+str(exp_num)+'_CHR22.bim',\\\n",
    "                                 inPATH+'Genotypes/'+str(pop)+'_'+str(exp_num)+'_CHR22.fam',\\\n",
    "                                 verbose = False)\n",
    "        \n",
    "    X_sas = G_sas.values\n",
    "    X_sas = np.where(X_sas == 2, 0, np.where(X_sas == 0, 2, X_sas))\n",
    "    X_sas = np.array(X_sas, dtype=float)\n",
    "    all_snps_sas_ld_full = G_sas.snp.values\n",
    "\n",
    "    common_snps = list(set(ss_df_tar['SNP']) & set(all_snps_sas_ld_full))\n",
    "\n",
    "    #Preprocess Target and Auxiliary Summ. Stats. File\n",
    "    ss_df_tar = ss_df_tar[ss_df_tar['SNP'].isin(common_snps)]\n",
    "\n",
    "    ss_df_tar = ss_df_tar.reset_index(drop=True)\n",
    "\n",
    "    N_tar = int(ss_df_tar['N'][0])\n",
    "\n",
    "    tar_snps = list(ss_df_tar['SNP'])\n",
    "    tar_a1 = list(ss_df_tar['A1'])\n",
    "    tar_pvals = np.asarray(list(ss_df_tar['P']), dtype='float')\n",
    "    tar_betas = np.asarray(list(ss_df_tar['BETA']), dtype='float')\n",
    "    tar_chroms = list(ss_df_tar['CHR'])\n",
    "    tar_pos = np.asarray(list(ss_df_tar['BP']), dtype='float')\n",
    "    tar_corr = np.asarray(list(ss_df_tar['BETA']), dtype='float')*N_tar\n",
    "\n",
    "    #Preprocess Target Ref. file\n",
    "    temp_set = set(tar_snps)\n",
    "    temp_indices_tar = [i for i, e in enumerate(all_snps_sas_ld_full) if e in temp_set]\n",
    "    all_snps_sas_ld_full = [i for i in all_snps_sas_ld_full if i in common_snps]\n",
    "    X_tar = X_sas[:, temp_indices_tar]\n",
    "\n",
    "    #True Y\n",
    "    if pop == 'sas':\n",
    "        Y_train_true = pd.read_csv(inPATH+'Phenotypes/pheno_'+str(pop)+'_train_'+str(exp_num)+'.truepheno',\\\n",
    "                               delimiter=' ', header=None, names=['Pheno'])\n",
    "        Y_train_true = np.array(Y_train_true['Pheno'], dtype=float)\n",
    "    else:\n",
    "        Y_train_true = pd.read_csv(inPATH+'Phenotypes/pheno_'+str(pop)+'_'+str(exp_num)+'.truepheno',\\\n",
    "                               delimiter=' ', header=None, names=['Pheno'])\n",
    "        Y_train_true = np.array(Y_train_true['Pheno'], dtype=float)\n",
    "\n",
    "    print('Start time: '+str(datetime.now()))\n",
    "    result_df = doMPP(X_tar, Y_train_true, tar_snps, 7.5)\n",
    "    print('End time: '+str(datetime.now()))\n",
    "    print(str(exp_num)+' ... Done!')"
   ]
  },
  {
   "cell_type": "code",
   "execution_count": null,
   "id": "aa7980e4",
   "metadata": {},
   "outputs": [],
   "source": []
  },
  {
   "cell_type": "code",
   "execution_count": null,
   "id": "1a7d0642",
   "metadata": {},
   "outputs": [],
   "source": []
  },
  {
   "cell_type": "code",
   "execution_count": null,
   "id": "2b02f0df",
   "metadata": {},
   "outputs": [],
   "source": []
  },
  {
   "cell_type": "code",
   "execution_count": null,
   "id": "4614e850",
   "metadata": {},
   "outputs": [],
   "source": []
  }
 ],
 "metadata": {
  "kernelspec": {
   "display_name": "Python 3 (ipykernel)",
   "language": "python",
   "name": "python3"
  },
  "language_info": {
   "codemirror_mode": {
    "name": "ipython",
    "version": 3
   },
   "file_extension": ".py",
   "mimetype": "text/x-python",
   "name": "python",
   "nbconvert_exporter": "python",
   "pygments_lexer": "ipython3",
   "version": "3.11.5"
  }
 },
 "nbformat": 4,
 "nbformat_minor": 5
}
